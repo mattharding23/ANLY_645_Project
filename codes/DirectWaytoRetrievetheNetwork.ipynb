{
 "cells": [
  {
   "cell_type": "code",
   "execution_count": 1,
   "metadata": {
    "id": "z-wM0K1siu9A"
   },
   "outputs": [],
   "source": [
    "import pandas as pd \n",
    "import numpy as np\n",
    "import sqlite3\n",
    "import networkx as nx\n",
    "import matplotlib.pyplot as plt"
   ]
  },
  {
   "cell_type": "code",
   "execution_count": null,
   "metadata": {
    "id": "GOvKiXHs4z0S"
   },
   "outputs": [],
   "source": [
    "#laod all the dataset \n",
    "Node = pd.read_csv('Node_info.csv')\n",
    "Edge = pd.read_csv('Edge_info.csv')\n",
    "dat2 = pd.read_csv('Song_attribute.csv')\n",
    "Node.head()"
   ]
  },
  {
   "cell_type": "code",
   "execution_count": null,
   "metadata": {
    "id": "Qq11v79n413e"
   },
   "outputs": [],
   "source": [
    "#extrac the data needed \n",
    "Nodes = Node['node'].tolist()\n",
    "Node_size = Node['node_size'].tolist()\n",
    "Node_color = Node['node_color'].tolist()\n",
    "Edge_weight = Edge['edge_weight'].tolist()"
   ]
  },
  {
   "cell_type": "code",
   "execution_count": null,
   "metadata": {
    "id": "tOokw5_G46Ca"
   },
   "outputs": [],
   "source": [
    "#build up the network \n",
    "G = nx.Graph() \n",
    "\n",
    "#Prepare node attributesm it make take a whike \n",
    "#use dictionary to retreive all artists songs \n",
    "Art = {}\n",
    "keys1 = list(Nodes)\n",
    "#add sub dictionary for each artist \n",
    "for i in keys1:\n",
    "  Art[i] = {}\n",
    "#add each artists songs to their dictionaries \n",
    "for key in keys1:\n",
    "  for index, rows in dat2.iterrows():\n",
    "    if rows.artist == key:\n",
    "      Art[key][rows.song_name] = rows.song_info\n",
    "\n",
    "\n",
    "#add node and weight\n",
    "for i in range(len(Nodes)):\n",
    "  G.add_node(Nodes[i], weight = Node_size[i], songs = Art[Nodes[i]],diversity = Node_color[i])\n",
    "#add edge and weight \n",
    "G.add_edges_from(Edges)\n",
    "\n",
    "#make edge weights more mutual \n",
    "for i in range(len(Edge_weights)):\n",
    "  if Edge_weights[i] == 0:\n",
    "    Edge_weights[i] = 2\n",
    "  elif Edge_weights[i] == 1:\n",
    "    Edge_weights[i] = 3\n",
    "  elif Edge_weights[i] == 2:\n",
    "    Edge_weights[i] = 4\n",
    "  elif Edge_weights[i] == 3:\n",
    "    Edge_weights[i] = 5\n",
    "  elif Edge_weights[i] > 3:\n",
    "    Edge_weights[i] = 7\n",
    "\n",
    "fig, ax = plt.subplots(figsize=(30,30))\n",
    "\n",
    "nx.draw(G,with_labels=True,node_size = Node_size,node_color =Node_color,width = Edge_weights)"
   ]
  }
 ],
 "metadata": {
  "colab": {
   "name": "DirectWaytoRetrievetheNetwork.ipynb",
   "provenance": []
  },
  "kernelspec": {
   "display_name": "Python 3 (ipykernel)",
   "language": "python",
   "name": "python3"
  },
  "language_info": {
   "codemirror_mode": {
    "name": "ipython",
    "version": 3
   },
   "file_extension": ".py",
   "mimetype": "text/x-python",
   "name": "python",
   "nbconvert_exporter": "python",
   "pygments_lexer": "ipython3",
   "version": "3.9.12"
  }
 },
 "nbformat": 4,
 "nbformat_minor": 1
}
